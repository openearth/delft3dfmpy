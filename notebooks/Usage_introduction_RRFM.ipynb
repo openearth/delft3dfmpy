{
 "cells": [
  {
   "cell_type": "markdown",
   "id": "7b585c94",
   "metadata": {},
   "source": [
    "# Example of generating a 1D2DRR model - an overview of functionalities\n",
    "\n",
    "This notebook gives an overview of the functionalities of the D-HyDAMO module, part of the delft3dfmpy python package.\n",
    "\n",
    "For install instructions see: https://github.com/openearth/delft3dfmpy#installation\n",
    "\n",
    "Furthermore, it should be noted that recently added features were tested with dummy-data, which is included with this package. The generated model is, therefore, not necessarily a correct hydraulic representation, as some dummy structures were added and existing structures moved and/or adjusted. The purpose of this notebook is solely to illustrate the usage of the dhydamo module.\n",
    "\n",
    "This notebook corresponds to a major update of delt3dfmpy and is, therefore, not compatible with older versions. The main differences are:\n",
    "- input data should now be according the HyDAMO DAMO2.2 format instead of HyDAMO v12;\n",
    "- input data is no longer in GML-format but is contained in a geopackage (GPKG);\n",
    "- schematisation of paved nodes has changed. Within sewer areas, a paved node is created for every overflow location (which represents the corresponding fraction of the sewer area). Outside sewer areas, a paved node is created for the paved fraction of a catchment, which does NOT intersect with a sewage area;\n",
    "- where the example catchment for older versions was the Moergestelsbroek, now the example model is based on a part of the Oostrumsche beek.\n"
   ]
  },
  {
   "cell_type": "markdown",
   "id": "f27265ea-1269-42cc-a853-c02fbc0b0b1b",
   "metadata": {},
   "source": [
    "## Jupyter-shortcuts:\n",
    "\n",
    "    [H]: bekijken van alle shortcuts\n",
    "    [SHIFT-Enter]: cel runnen en doorgaan\n",
    "    [CNTRL-Enter]: runnen geselecteerde cellen\n",
    "    [A]: nieuwe cel boven de huidge\n",
    "    [B]: nieuwe cel onder de huidige\n",
    "    [D-D]: cel verwijderen\n",
    "    [SHIFT-TAB]: argumenten van functie weergeven (cel moet eerst gedraaid zijn)"
   ]
  },
  {
   "cell_type": "markdown",
   "id": "7e2fb163-c588-48c5-a5c5-8949e010d029",
   "metadata": {},
   "source": [
    "## Initialize"
   ]
  },
  {
   "cell_type": "markdown",
   "id": "de666bad-ecb3-426f-bff5-6077d4e8b7ec",
   "metadata": {},
   "source": [
    "Load Python libraries"
   ]
  },
  {
   "cell_type": "code",
   "execution_count": null,
   "id": "303bd269-8d1c-4e65-ad84-cce843c5dced",
   "metadata": {},
   "outputs": [],
   "source": [
    "# Basis\n",
    "import os\n",
    "import sys\n",
    "import shutil\n",
    "from platform import python_version\n",
    "import numpy as np\n",
    "sys.path.append('../')      \n",
    "# Importing relevant classes from delft3dfmpy\n",
    "from delft3dfmpy import DFlowFMModel, HyDAMO, Rectangular, DFlowFMWriter\n",
    "from delft3dfmpy import DFlowRRModel, DFlowRRWriter\n",
    "from delft3dfmpy.datamodels.common import ExtendedGeoDataFrame\n",
    "\n",
    "# shapefiles IO\n",
    "import geopandas as gpd\n",
    "\n",
    "# Import csv\n",
    "import pandas as pd\n",
    "\n",
    "# Geometries\n",
    "from shapely.geometry import Polygon, LineString, Point\n",
    "\n",
    "# Plotting\n",
    "import matplotlib.pyplot as plt\n",
    "from matplotlib.collections import LineCollection\n",
    "\n",
    "%matplotlib inline"
   ]
  },
  {
   "cell_type": "markdown",
   "id": "113d08ae-c1fd-4e0d-ab85-703925ae44ec",
   "metadata": {},
   "source": [
    "Change these paths to access the data and to use all functionalities. dflowfm_path is needed to refine the 2D-grid. It is not included in the D-Hydro installation. In the next major update, we will use meshkernel functionality and this executable will no longer be needed."
   ]
  },
  {
   "cell_type": "code",
   "execution_count": null,
   "id": "b26ac6f9-6260-4e3b-a798-32b624b2c86b",
   "metadata": {},
   "outputs": [],
   "source": [
    "# path to the package containing the dummy-data\n",
    "data_path = os.path.abspath('../data')\n",
    "\n",
    "# path to dflowfm. Optional; needed for 2d-mesh refining\n",
    "dflowfm_path = r'D:\\3640.20\\software\\dflowfm-x64-1.2.104.66827M'\n",
    "\n",
    "# path to write the models\n",
    "output_path = os.path.abspath('demo_1DRR')\n",
    "\n",
    "# path to DIMR for a correct run.bat file\n",
    "dimr_path = r\"C:\\Program Files\\Deltares\\D-HYDRO Suite 2022.03 1D2D\\plugins\\DeltaShell.Dimr\\kernels\\x64\\dimr\\scripts\\run_dimr.bat\""
   ]
  },
  {
   "cell_type": "code",
   "execution_count": null,
   "id": "e7594e39-a1c3-4d48-bc93-980375a2eac2",
   "metadata": {},
   "outputs": [],
   "source": [
    "# path to dll's that are needed to run gridgeom.dll, which is needed for 2D-mesh generation. Setting the path is only needed for Python >= version 3.8\n",
    "if float('.'.join(python_version().split('.')[0:2])) >= 3.8: \n",
    "    dll_path = r'C:\\Program Files\\Deltares\\D-HYDRO Suite 2022.03 1D2D\\plugins\\DeltaShell.Dimr\\kernels\\x64\\share\\bin'\n"
   ]
  },
  {
   "cell_type": "markdown",
   "id": "1b33fca6-a553-4caa-b05f-3948d4d0ca78",
   "metadata": {},
   "source": [
    "## 1D-model"
   ]
  },
  {
   "cell_type": "code",
   "execution_count": null,
   "id": "3a3a04e6",
   "metadata": {},
   "outputs": [],
   "source": [
    "gpkg_file = os.path.join(data_path,'gpkg/Example_model.gpkg')\n",
    "hydamo = HyDAMO(extent_file=os.path.join(data_path,'gis/OLO_subcatchment.shp'))\n",
    "hydamo.branches.read_gpkg_layer(gpkg_file, layer_name='HydroObject', index_col='code')\n",
    "# these branches are not connected to the main branch ('W_242466_0','W_242465_0','W_1386_0', 'W_2352_0') or have no profile (W_1698_0) - drop them.\n",
    "branches_to_drop = ['W_242466_0','W_242465_0','W_1386_0', 'W_1698_0', 'W_2352_0']\n",
    "hydamo.branches.drop(branches_to_drop, axis=0, inplace=True)\n",
    "hydamo.profile.read_gpkg_layer(gpkg_file, layer_name='ProfielPunt', groupby_column = 'profiellijnid', order_column='codevolgnummer') \n",
    "hydamo.profile_roughness.read_gpkg_layer(gpkg_file, layer_name='RuwheidProfiel') \n",
    "hydamo.profile.snap_to_branch(hydamo.branches, snap_method='intersecting')\n",
    "hydamo.profile.dropna(axis=0, inplace=True, subset=['branch_offset'])\n",
    "hydamo.profile_line.read_gpkg_layer(gpkg_file, layer_name='profiellijn', id_col='globalid')\n",
    "hydamo.profile_group.read_gpkg_layer(gpkg_file, layer_name='profielgroep')\n",
    "hydamo.profile.drop('code', axis=1, inplace=True)\n",
    "hydamo.profile['code'] = hydamo.profile['profiellijnid']\n",
    "hydamo.param_profile.read_gpkg_layer(gpkg_file, layer_name='hydroobject_normgp')\n",
    "hydamo.param_profile_values.read_gpkg_layer(gpkg_file, layer_name='normgeparamprofielwaarde')\n",
    "hydamo.culverts.read_gpkg_layer(gpkg_file, layer_name='DuikerSifonHevel', index_col='code')\n",
    "hydamo.culverts.snap_to_branch(hydamo.branches, snap_method='ends', maxdist=5)\n",
    "hydamo.culverts.dropna(axis=0, inplace=True, subset=['branch_offset'])\n",
    "hydamo.weirs.read_gpkg_layer(gpkg_file, layer_name='Stuw', index_col='code')\n",
    "hydamo.weirs.snap_to_branch(hydamo.branches, snap_method='overal', maxdist=10)\n",
    "hydamo.weirs.dropna(axis=0, inplace=True, subset=['branch_offset'])\n",
    "hydamo.opening.read_gpkg_layer(gpkg_file, layer_name='Kunstwerkopening')\n",
    "hydamo.management_device.read_gpkg_layer(gpkg_file, layer_name='Regelmiddel')\n",
    "hydamo.pumpstations.read_gpkg_layer(gpkg_file, layer_name='Gemaal',index_col='code')\n",
    "hydamo.pumpstations.snap_to_branch(hydamo.branches, snap_method='overal', maxdist=10)\n",
    "hydamo.pumps.read_gpkg_layer(gpkg_file,layer_name='Pomp', index_col='code')\n",
    "hydamo.management.read_gpkg_layer(gpkg_file, layer_name='Sturing', index_col='code')\n",
    "hydamo.bridges.read_gpkg_layer(gpkg_file, layer_name='Brug', index_col='code')\n",
    "hydamo.bridges.snap_to_branch(hydamo.branches, snap_method='overal', maxdist=1100)\n",
    "hydamo.bridges.dropna(axis=0, inplace=True, subset=['branch_offset'])\n",
    "hydamo.boundary_conditions.read_gpkg_layer(gpkg_file, layer_name='hydrologischerandvoorwaarde', index_col='code')\n",
    "hydamo.boundary_conditions.snap_to_branch(hydamo.branches, snap_method='overal', maxdist=10)   \n",
    "dfmmodel = DFlowFMModel()\n",
    "dfmmodel.structures.io.weirs_from_hydamo(hydamo.weirs, profile_groups=hydamo.profile_group, profile_lines=hydamo.profile_line, profiles=hydamo.profile, opening=hydamo.opening, management_device=hydamo.management_device, management=None)\n",
    "dfmmodel.structures.io.culverts_from_hydamo(hydamo.culverts, management_device=hydamo.management_device)\n",
    "dfmmodel.structures.io.bridges_from_hydamo(hydamo.bridges, profile_groups=hydamo.profile_group, profile_lines=hydamo.profile_line, profiles=hydamo.profile)\n",
    "dfmmodel.structures.io.pumps_from_hydamo(pompen=hydamo.pumps, sturing=hydamo.management, gemalen=hydamo.pumpstations)\n",
    "dfmmodel.network.set_branches(hydamo.branches)\n",
    "dfmmodel.network.generate_1dnetwork(one_d_mesh_distance=20.0, seperate_structures=True)\n",
    "# Add cross sections from hydamo\n",
    "dfmmodel.crosssections.io.from_hydamo(\n",
    "    crosssections=hydamo.profile,\n",
    "    crossection_roughness=hydamo.profile_roughness,\n",
    "    param_profile=hydamo.param_profile,\n",
    "    param_profile_values=hydamo.param_profile_values,   \n",
    "    branches=hydamo.branches,\n",
    "    roughness_variant = 'High'\n",
    ")\n",
    "j=0\n",
    "missing = dfmmodel.crosssections.get_branches_without_crosssection()\n",
    "hydamo.branches['order'] = np.nan\n",
    "for i in hydamo.branches.naam.unique():\n",
    "    if i != None:\n",
    "        if all(x in missing for x in hydamo.branches.loc[hydamo.branches.loc[:,'naam']==i, 'code']) == False:\n",
    "            hydamo.branches.loc[hydamo.branches.loc[:,'naam']==i, 'order'] = int(j)\n",
    "            j=j+1\n",
    "interpolation=[]\n",
    "for i in hydamo.branches.itertuples():\n",
    "    if i.order > 0:\n",
    "        dfmmodel.network.set_branch_order(hydamo.branches.loc[i.Index,'code'], idx= int(hydamo.branches.at[i.Index,'order']))\n",
    "        interpolation.append(hydamo.branches.loc[i.Index,'code'])\n",
    "default = dfmmodel.crosssections.add_rectangle_definition(\n",
    "        height=5.0, width=5.0, closed=False, roughnesstype='Strickler', roughnessvalue=30, name='default')\n",
    "missing_after_interpolation =np.setdiff1d(missing,interpolation)\n",
    "dfmmodel.crosssections.set_default_definition(definition=default, shift=18.0)\n",
    "default = dfmmodel.crosssections.add_rectangle_definition(\n",
    "        height=5.0, width=5.0, closed=False, roughnesstype='Strickler', roughnessvalue=30, name='default')\n",
    "dfmmodel.crosssections.set_default_definition(definition=default, shift=18.0)\n",
    "dfmmodel.crosssections.set_default_locations(missing_after_interpolation)\n",
    "dfmmodel.external_forcings.io.from_hydamo(hydamo.boundary_conditions)\n",
    "dfmmodel.external_forcings.add_boundary_condition('RVW_01', (197464.,392130.),  'discharge', 2.0)\n",
    "# # Initial water depth is set to 0.5 m\n",
    "dfmmodel.external_forcings.set_initial_waterdepth(0.5)"
   ]
  },
  {
   "cell_type": "markdown",
   "id": "7dd62fce-5769-4240-929a-31510d623708",
   "metadata": {},
   "source": [
    "## Read catchments and laterals"
   ]
  },
  {
   "cell_type": "code",
   "execution_count": null,
   "id": "a104cf09-c6a0-45d2-ad4a-f8c5698321aa",
   "metadata": {},
   "outputs": [],
   "source": [
    "hydamo.catchments.read_gpkg_layer(gpkg_file, layer_name='afvoergebiedaanvoergebied', index_col='code')\n",
    "hydamo.laterals.read_gpkg_layer(gpkg_file,layer_name='lateraleknoop')\n",
    "for ind, cat in hydamo.catchments.iterrows():\n",
    "    hydamo.catchments.loc[ind,'lateraleknoopcode'] = hydamo.laterals[hydamo.laterals.globalid==cat.lateraleknoopid].code.values[0]\n",
    "hydamo.laterals.snap_to_branch(hydamo.branches, snap_method='overal', maxdist=5000)"
   ]
  },
  {
   "cell_type": "markdown",
   "id": "6dc5f35c-d048-48bc-a38d-919886ebae40",
   "metadata": {},
   "source": [
    "## Generate the RR schematization"
   ]
  },
  {
   "cell_type": "markdown",
   "id": "e773f4ee",
   "metadata": {},
   "source": [
    "Catchments are provided in the HyDAMO DAMO2.2 format and included in the GPKG. They can also be read from other formats using 'read_gml', or 'read_shp'. Note that in case of shapefiles column mapping is necessary because the column names are truncated. \n",
    "\n",
    "Note that when catchments have a \"MultiPolygon' geometry, the multipolygons are 'exploded' into single polygon geometries. A warning of this is isued, and a suffix is added to every polygons ID to prevent duplicates. \n",
    "\n",
    "For every catchment, the land use areas will be calculated and if appopriate a maximum of four RR-nodes will be created per catchment:\n",
    " - unpaved (based on the Ernst concept)\n",
    " - paved \n",
    " - greenhouse\n",
    " - open water (not the full Sobek2 open water, but only used to transfer (net) precipitation that falls on open water that is schematized in RR to the 1D/2D network.\n",
    " \n",
    "At the moment, two options exist for the schematisation of the paved area:\n",
    " 1) simple: the paved fraction of each catchment is modelled with a paved node, directly connected to catchments' boundary node\n",
    " <br>\n",
    " 2) more complex: sewer area polygons and overflow points are used a input as well. For each sewer area, the overlapping paved area is the distributed over the overflows that are associated with the sewerarea (the column 'lateraleknoopcode') using the area fraction (column 'fractie') for each overflow. In each catchment, paved area that does not intersect with a sewer area gets an unpaved node as in option (1).\n",
    "\n",
    "First read sewer areas and overflow locations."
   ]
  },
  {
   "cell_type": "code",
   "execution_count": null,
   "id": "7a03590b-4326-4bbd-a90d-85ba3720eef6",
   "metadata": {},
   "outputs": [],
   "source": [
    "hydamo.sewer_areas.read_shp(os.path.join(data_path , 'gpkg',  'rioleringsgebieden.shp'),clip=None, check_geotype=False, column_mapping={'Code':'code'})\n",
    "hydamo.overflows.read_shp(os.path.join(data_path,  'gpkg' , 'overstorten.shp') ,clip=None, column_mapping={'codegerela':'codegerelateerdobject', 'naam_riole':'name' })\n",
    "hydamo.overflows.snap_to_branch(hydamo.branches, snap_method='overal', maxdist= 5000)"
   ]
  },
  {
   "cell_type": "markdown",
   "id": "c9163dcc-85b7-4b39-bede-92d332399b5d",
   "metadata": {},
   "source": [
    "Create in instance of a DFlowRRModel and set the parameters.\n",
    "\n",
    "Other input data for RR can be fed by rasters (from which zonal statistics will be extracted) or spatially uniform default values. Three rasters are required: land use, soil type and surface elevation. For each land use type, the area within each catchment is calculated. Surface level is calculated as the median within the catchment, and the most-occurring soil type is used. In all rasters, a NODATA-value of -999 should be used."
   ]
  },
  {
   "cell_type": "code",
   "execution_count": null,
   "id": "31dfa9ea-06e5-4c92-a124-c047ef9efeb5",
   "metadata": {},
   "outputs": [],
   "source": [
    "drrmodel = DFlowRRModel()"
   ]
  },
  {
   "cell_type": "markdown",
   "id": "dc11795e-5161-4a2e-875e-ff4d5fc0f056",
   "metadata": {},
   "source": [
    "For land use and soil type a coding is prescribed. For landuse, the legend of the map is expected to be as follows: <br>\n",
    " 1 potatoes  <br>\n",
    " 2 wheat<br>\n",
    " 3 sugar beet<br> \n",
    " 4 corn       <br> \n",
    " 5 other crops <br> \n",
    " 6 bulbous plants<br> \n",
    " 7 orchard<br>\n",
    " 8 grass  <br>\n",
    " 9 deciduous forest  <br>\n",
    "10 coniferous forest<br>\n",
    "11 nature<br>\n",
    "12 barren<br>\n",
    "13 open water<br>\n",
    "14 built-up<br>\n",
    "15 greenhouses<br>\n",
    "\n",
    "For classes 1-12, the areas are calculated from the provided raster and remapped to the classification in the Sobek RR-tables.\n",
    "\n",
    "\n",
    "The coding for the soil types:<br>\n",
    "1 'Veengrond met veraarde bovengrond'<br>\n",
    " 2 'Veengrond met veraarde bovengrond, zand'<br>\n",
    " 3 'Veengrond met kleidek'<br>\n",
    " 4 'Veengrond met kleidek op zand'<br>\n",
    " 5 'Veengrond met zanddek op zand'<br>\n",
    " 6 'Veengrond op ongerijpte klei'<br>\n",
    " 7 'Stuifzand'<br>\n",
    " 8 'Podzol (Leemarm, fijn zand)'<br>\n",
    " 9 'Podzol (zwak lemig, fijn zand)'<br>\n",
    "10 'Podzol (zwak lemig, fijn zand op grof zand)'<br>\n",
    "11 'Podzol (lemig keileem)'<br>\n",
    "12 'Enkeerd (zwak lemig, fijn zand)'<br>\n",
    "13 'Beekeerd (lemig fijn zand)'<br>\n",
    "14 'Podzol (grof zand)'<br>\n",
    "15 'Zavel'<br>\n",
    "16 'Lichte klei'<br>\n",
    "17 'Zware klei'<br>\n",
    "18 'Klei op veen'<br>\n",
    "19 'Klei op zand'<br>\n",
    "20 'Klei op grof zand'<br>\n",
    "21 'Leem'<br>\n",
    "\n",
    "\n",
    "And surface elevation needs to be in m+NAP."
   ]
  },
  {
   "cell_type": "markdown",
   "id": "ec9e872e-0cb4-4d9e-864d-d4976586fb20",
   "metadata": {},
   "source": [
    "### Unpaved areas"
   ]
  },
  {
   "cell_type": "markdown",
   "id": "447369ce",
   "metadata": {},
   "source": [
    "Fill the unpaved node with the corresponding ernst definition as follows. \n",
    "\n",
    "The argument 'meteo_areas' to 'unpaved_from_input' contains the polygons that correspond to a meteo-station: here these are identical to each catchment so each catchment gets its own station.  If there are many, small, catchments, it might be more appropriate to use, for instance, Thiessen polygons around gauges. For each catchment, the meteo-station is based on the 'meteo-area;-feature in which the centroid of the catchment falls.\n",
    "\n",
    "The argument 'zonalstats_alltouched' is rather important. It defines the number of cells in the input rasters that are taken into account for each catchment. If the raster resolution is sufficiently high, its setting does not matter. In the case of coarse rasters, small catchments might end up with no nodes at all if the 'zonalstats_alltouched' is FALSE - it says that only cells of which the centroids are inside the polygon are taken into account. If it is TRUE, all cells that are touched by the catchment geometry are taken into account - i.e. some pixels might be counted multiple times. Note that to define average fluxes (meteo, seepage, storages) zonalstats_alltouched is TRUE by default. For elevation, land use and soil types it is FALSE by default, if the argument is omitted."
   ]
  },
  {
   "cell_type": "code",
   "execution_count": null,
   "id": "b5bffdad-0035-493d-ade8-5fe834c0b80b",
   "metadata": {},
   "outputs": [],
   "source": [
    "# # all data and settings to create the RR-model\n",
    "# all data and settings to create the RR-model\n",
    "lu_file = os.path.join(data_path , 'rasters' ,'sobek_landuse.tif')\n",
    "ahn_file = os.path.join(data_path ,'rasters' , 'AHN_2m_clipped_filled.tif')\n",
    "soil_file = os.path.join(data_path , 'rasters' , 'sobek_soil.tif')\n",
    "surface_storage = 10.0\n",
    "infiltration_capacity = 100.0\n",
    "initial_gwd = 1.2 # water level depth below surface\n",
    "\n",
    "runoff_resistance = 1.\n",
    "infil_resistance = 300.\n",
    "layer_depths = [0.0, 1.0, 2.0]\n",
    "layer_resistances = [30,200,10000]\n",
    "\n",
    "meteo_areas = hydamo.catchments\n",
    "\n",
    "drrmodel.unpaved.io.unpaved_from_input(hydamo.catchments, lu_file, ahn_file, soil_file, surface_storage, infiltration_capacity, initial_gwd, meteo_areas, zonalstats_alltouched=True)\n",
    "drrmodel.unpaved.io.ernst_from_input(hydamo.catchments, depths=layer_depths, resistance=layer_resistances,infiltration_resistance=infil_resistance, runoff_resistance=runoff_resistance)"
   ]
  },
  {
   "cell_type": "markdown",
   "id": "e25d6b2d-a7bc-4ab9-8a2a-148b156e1a44",
   "metadata": {},
   "source": [
    "### Paved areas"
   ]
  },
  {
   "cell_type": "markdown",
   "id": "a9f8c5c8-fc1e-433c-93c1-3897e4e6b2aa",
   "metadata": {},
   "source": [
    "Input for the paved nodes are land use -the area of the paved node is the area of class '14' in the provided land use map- and surface elevation. In addition, the following parameters can all be numbers (spatially uniform) or raster filenames:\n",
    "- storage on the street (in mm)<br>\n",
    "- storage in the sewer system (in mm)<br>\n",
    "- capacity of the sewerpumps (in m3/s)<br>\n",
    "\n",
    "The meteo-station is assigned in the same way as for unpaved nodes."
   ]
  },
  {
   "cell_type": "code",
   "execution_count": null,
   "id": "8dd7742f-69df-4928-9b8f-ba21346a8e26",
   "metadata": {},
   "outputs": [],
   "source": [
    "street_storage = 10.0\n",
    "sewer_storage =  10.0 #s.path.join(data_path,'rasters/sewstor.tif')\n",
    "pumpcapacity =  10.0 #os.path.join(data_path,'rasters/pumpcap.tif')\n",
    "\n",
    "# version with sewer areas and overflows\n",
    "drrmodel.paved.io.paved_from_input(catchments=hydamo.catchments, \n",
    "                                    landuse=lu_file, \n",
    "                                    surface_level=ahn_file,                                      \n",
    "                                    street_storage=street_storage,\n",
    "                                    sewer_storage=sewer_storage,\n",
    "                                    pump_capacity=pumpcapacity, \n",
    "                                    meteo_areas=meteo_areas,\n",
    "                                    zonalstats_alltouched=True)"
   ]
  },
  {
   "cell_type": "markdown",
   "id": "f8a749b9-1559-487f-a648-531d261de72e",
   "metadata": {},
   "source": [
    "### Greenhouse areas"
   ]
  },
  {
   "cell_type": "markdown",
   "id": "315906a2-b59b-4a4f-bd2d-93e366b44ae8",
   "metadata": {},
   "source": [
    "Input for the greenhouse nodes are (again) land use -the area of the paved node is the area of class '15' in the provided land use map- and surface elevation. In addition, the following parameter can be a number (spatially uniform) or a raster filename:\n",
    "- storage on the roof <br>\n",
    "\n",
    "The meteo-station is assigned in the same way as for unpaved nodes."
   ]
  },
  {
   "cell_type": "code",
   "execution_count": null,
   "id": "0210043c-4dae-4346-8375-c60f2e8a8cd5",
   "metadata": {},
   "outputs": [],
   "source": [
    "roof_storage = 10.0 #os.path.join(data_path,'rasters/roofstor.tif')\n",
    "drrmodel.greenhouse.io.greenhouse_from_input(hydamo.catchments, lu_file, ahn_file, roof_storage, meteo_areas, zonalstats_alltouched=True)"
   ]
  },
  {
   "cell_type": "markdown",
   "id": "ecc9b2cb-706c-4b57-b419-c3ac6d082c38",
   "metadata": {},
   "source": [
    "### Open water areas"
   ]
  },
  {
   "cell_type": "markdown",
   "id": "f28f00ea-6a60-46e8-b8d7-aef97167af65",
   "metadata": {},
   "source": [
    "Input for the open water nodes are only land use -the area of the paved node is the area of class '13' in the provided land use map. \n",
    "\n",
    "The meteo-station is assigned in the same way as for unpaved nodes."
   ]
  },
  {
   "cell_type": "code",
   "execution_count": null,
   "id": "d81b60f5-39d2-422c-b0cd-63d59e772cdc",
   "metadata": {},
   "outputs": [],
   "source": [
    "drrmodel.openwater.io.openwater_from_input(hydamo.catchments, lu_file, meteo_areas, zonalstats_alltouched=True)"
   ]
  },
  {
   "cell_type": "markdown",
   "id": "e2e49510-6a24-4089-bd06-1fe5f74bc4b3",
   "metadata": {},
   "source": [
    "### Boundary nodes"
   ]
  },
  {
   "cell_type": "markdown",
   "id": "bd0b66b8-a2c6-48d1-bb52-8e8f27c60f57",
   "metadata": {},
   "source": [
    "Boundary nodes are assumed to be also included in the FM-model. For every catchment, the boundary identified by 'lateraleknoopocode' in the catchment definitition, is assumed to exist in the laterals. \n",
    "\n",
    "These nodes are created in the RR model with the same ID. 'drrmodel' is an argument because the function checks whether boundary nodes have a valid connection to anyo other node; other boundaries are removed. Overflows are optional and can be left out. If they are included, additional boundaries are created."
   ]
  },
  {
   "cell_type": "code",
   "execution_count": null,
   "id": "88ea9010-5cda-45ec-b024-455c9d2c8d4f",
   "metadata": {},
   "outputs": [],
   "source": [
    "drrmodel.external_forcings.io.boundary_from_input(hydamo.laterals, hydamo.catchments, drrmodel, overflows=None)"
   ]
  },
  {
   "cell_type": "markdown",
   "id": "fef480c4-6dcc-44d0-a438-5e9094b71548",
   "metadata": {},
   "source": [
    "Coupling between RR and FM must be online (parallel), not sequential. RR reads waterlevels from FM laterals and FM gets discharges from lateral nodes of discharge type 'realtime'. In the call to the function, the overflow locations are appended to the regular lateral locations. For lateral nodes for which no rr_boundary (catchment or overflow) exists, a time series from lateral_discharge is used. Lateral discharges can be of two types:\n",
    "- a Pandas series, that contains one number (in m3/s) for every lateral. The 'code' of the lateral should be the index of the series. See example below.\n",
    "- a Pandas dataframe containing time series, with a column for every lateral node. The 'code' of the lateral should be equal to the column names, and the index should contain the timestamps."
   ]
  },
  {
   "cell_type": "code",
   "execution_count": null,
   "id": "d7a4bd49-c9c9-4fe4-b9e5-feef97d8cb7e",
   "metadata": {},
   "outputs": [],
   "source": [
    "dfmmodel.external_forcings.io.read_laterals(locations=hydamo.laterals, lateral_discharges=None, rr_boundaries=drrmodel.external_forcings.boundary_nodes)"
   ]
  },
  {
   "cell_type": "markdown",
   "id": "806b1bbd-1507-47b9-bff1-f8dbef970de2",
   "metadata": {},
   "source": [
    "### External forcings\n",
    "\n",
    "Three types of external forcing need to be provided:<br>\n",
    "- Seepage/drainage\n",
    "- Precipitation\n",
    "- Evaporation\n",
    "\n",
    "All are assumed to be spatially variable and thus need to pe provided as rasters per time step. Only the locations of the folders containing the rasters need to be provided; the time step is then derived from the file names.\n",
    "\n",
    "Precipitation and evaporation are assumed to be in mm/d. As for evaporation only one meteostation is used, the meteo_areas are dissolved. For seepage, as the use of Metaswap-rasters is allowed, the unit is assumed to m3/grid cell/timestep.\n",
    "\n",
    "Rastertypes can be any type that is recognized by rasterio (in any case Geotiff and ArcASCII rasters). If the file extension is 'IDF', as is the case in Modflow output, the raster is read using the 'imod'-package.\n",
    "\n",
    "IMPORTANT: time steps are extracted from the file names. Therefore, the names should cohere to some conditions:\n",
    "The filename should consist of at least two parts, separated by underscores. The second part needs to contain time information, which should be formatted as YYYYMMDDHHMMSS (SS may be omitted). Or, for daily data YYYYMMDD.\n",
    "\n",
    "For example: 'precip_20200605151500.tif'"
   ]
  },
  {
   "cell_type": "code",
   "execution_count": null,
   "id": "40ca0ef4-c013-47f8-b20a-0b51d5259fba",
   "metadata": {},
   "outputs": [],
   "source": [
    "seepage_folder = os.path.join( data_path, 'rasters', 'seepage')\n",
    "precip_folder =  os.path.join(data_path, 'rasters',  'precipitation')\n",
    "evap_folder = os.path.join( data_path, 'rasters',  'evaporation')\n",
    "\n",
    "drrmodel.external_forcings.io.seepage_from_input(hydamo.catchments, seepage_folder)\n",
    "drrmodel.external_forcings.io.precip_from_input(meteo_areas, precip_folder)\n",
    "drrmodel.external_forcings.io.evap_from_input(meteo_areas, evap_folder)"
   ]
  },
  {
   "cell_type": "markdown",
   "id": "4cab3a7d-a360-4d31-8f6f-91696a38e292",
   "metadata": {},
   "source": [
    "## Plotting and writing"
   ]
  },
  {
   "cell_type": "markdown",
   "id": "9f16e49c-2dfc-4594-8548-08e704546cce",
   "metadata": {},
   "source": [
    "We need a function to plot the RR-nodes"
   ]
  },
  {
   "cell_type": "code",
   "execution_count": null,
   "id": "0bfc8ebf-ba7e-4b1b-8f05-b7d079e2ca5e",
   "metadata": {},
   "outputs": [],
   "source": [
    "def node_geometry(dict):\n",
    "    # Function to put the node geometries in geodataframes\n",
    "    from shapely.geometry import Point\n",
    "    geoms = []  \n",
    "    links = []\n",
    "    for i in dict.items():\n",
    "        if 'ar' in i[1]:\n",
    "            if np.sum([float(s) for s in i[1]['ar'].split(' ')])>0:\n",
    "                geoms.append(Point((float(i[1]['px']),float(i[1]['py']))))           \n",
    "                links.append(LineString((Point(float(i[1]['px']),float(i[1]['py'])),\n",
    "                                        Point(float(drrmodel.external_forcings.boundary_nodes[i[1]['boundary_node']]['px']),\n",
    "                                              float(drrmodel.external_forcings.boundary_nodes[i[1]['boundary_node']]['py'])))))\n",
    "        else: \n",
    "            geoms.append(Point((float(i[1]['px']),float(i[1]['py']))))           \n",
    "    return((gpd.GeoDataFrame(geoms,columns=['geometry'])),gpd.GeoDataFrame(links,columns=['geometry']))"
   ]
  },
  {
   "cell_type": "markdown",
   "id": "2cfbfcc4-8063-4913-85c9-8f5d6e728950",
   "metadata": {},
   "source": [
    "Now all the nodes are filled. The topology is defined as follows: every catchment gets a maximum of four nodes (unpaved, paved, open water and greenhouse). If in the land use map, the appropriate land use does not occur in the catchment, no node is defined. The four nodes are plotted on a horizontal (west-east) line around the catchment centroid in the order of: openwater, unpaved, paved, greenhouse. Every node is connected with the lateral node of the catchnment using a RR-link. The files 3B_NOD.TP and 3B_LINK.TP are created describing this."
   ]
  },
  {
   "cell_type": "code",
   "execution_count": null,
   "id": "b988d3ba-7d4d-4eac-9b7e-4e70c3251600",
   "metadata": {},
   "outputs": [],
   "source": [
    "## plt.rcParams['axes.edgecolor'] = 'w'\n",
    "import matplotlib.patches as mpatches\n",
    "fig, ax = plt.subplots(figsize=(10, 10))\n",
    "\n",
    "ax.xaxis.set_visible(False)\n",
    "ax.yaxis.set_visible(False)\n",
    "ax.set_xlim(195000, 205000)\n",
    "ax.set_ylim(390000, 399000)\n",
    "\n",
    "achtergrond = plt.imread( os.path.join(data_path,'gis/achtergrond_oostrum.png'))\n",
    "ax.imshow(achtergrond, extent=(189287, 210845, 389693, 398529), interpolation='lanczos')\n",
    "\n",
    "hydamo.catchments.plot(ax=ax,label='Catchments', edgecolor='black', facecolor=\"pink\", alpha=0.5)\n",
    "hydamo.branches.plot(ax=ax, label='Channel')\n",
    "node_geometry(drrmodel.unpaved.unp_nodes)[0].plot(ax=ax,markersize=30,marker='s',color='green',label='Unpaved')\n",
    "node_geometry(drrmodel.unpaved.unp_nodes)[1].plot(ax=ax, color='black',linewidth=0.5)\n",
    "node_geometry(drrmodel.paved.pav_nodes)[0].plot(ax=ax,markersize=20,marker='s',color='red',label='Paved')\n",
    "node_geometry(drrmodel.paved.pav_nodes)[1].plot(ax=ax, color='black',linewidth=0.5)\n",
    "node_geometry(drrmodel.greenhouse.gh_nodes)[0].plot(ax=ax,markersize=15,color='yellow',label='Greenhouse')\n",
    "node_geometry(drrmodel.greenhouse.gh_nodes)[1].plot(ax=ax, color='black',linewidth=0.5)\n",
    "node_geometry(drrmodel.openwater.ow_nodes)[0].plot(ax=ax,markersize=10,color='blue',label='Openwater')\n",
    "node_geometry(drrmodel.openwater.ow_nodes)[1].plot(ax=ax, color='black',linewidth=0.5,label='RR-link')\n",
    "node_geometry(drrmodel.external_forcings.boundary_nodes)[0].plot(ax=ax, markersize=15, color='purple',label='RR Boundary')\n",
    "\n",
    "# manually add handles for polygon plot\n",
    "handles, labels = ax.get_legend_handles_labels()\n",
    "poly = mpatches.Patch(facecolor='pink', edgecolor='black',alpha=0.5)\n",
    "ax.legend(handles=handles.append(poly),labels=labels.append('Catchments'))\n",
    "fig.tight_layout()"
   ]
  },
  {
   "cell_type": "markdown",
   "id": "141fdda0-ee07-42da-8798-b77ce40b6530",
   "metadata": {},
   "source": [
    "### Settings and writing\n",
    "\n",
    "Finally, we adjust some settings and export the coupled FM-RR model. For more info on the settings: https://content.oss.deltares.nl/delft3d/manuals/D-Flow_FM_User_Manual.pdf\n",
    "\n",
    "The 1D/2D model (FM) is written to the sub-folder 'fm'; RR-files are written to 'rr'. An XML-file (dimr-config.xml) describes the coupling between the two. \n",
    "\n",
    "For every paved node, a sewage link to a WWTP is created. This is not included in the data, and will be created (including a boundary outside the model) at the coordinates specified by the 'wwtp' argument in the rr_writer below."
   ]
  },
  {
   "cell_type": "code",
   "execution_count": null,
   "id": "61984d0a-1b49-4d94-a2c7-c7c0b69b8400",
   "metadata": {},
   "outputs": [],
   "source": [
    "# for FM model\n",
    "dfmmodel.mdu_parameters['refdate'] = 20160601\n",
    "dfmmodel.mdu_parameters['tstart'] = 0.0 * 3600\n",
    "dfmmodel.mdu_parameters['tstop'] =  24.0 * 3600\n",
    "dfmmodel.mdu_parameters['hisinterval'] = '120. 0. 0.'\n",
    "dfmmodel.mdu_parameters['cflmax'] = 0.7\n",
    "dfmmodel.mdu_parameters['OutputDir'] = 'output'\n",
    "dfmmodel.mdu_parameters['useVolumeTables'] = 1 # oparameter setting advised by Deltares for better performance\n",
    "dfmmodel.mdu_parameters['increment'] = 0.2 # oparameter setting advised by Deltares for better performance\n",
    "dfmmodel.mdu_parameters['NcFormat'] = 4 # oparameter setting advised by Deltares for better performance\n",
    "dfmmodel.mdu_parameters['NcNoForcedFlush'] = 1 # oparameter setting advised by Deltares for better performance\n",
    "dfmmodel.mdu_parameters['MapFormat'] = 4 # oparameter setting advised by Deltares for better performance\n",
    "dfmmodel.mdu_parameters['NcNoUnlimited'] = 1 # oparameter setting advised by Deltares for better performance\n",
    "\n",
    "# # for RR model\n",
    "drrmodel.d3b_parameters['Timestepsize'] = 300\n",
    "drrmodel.d3b_parameters['StartTime'] = \"'2016/06/01;00:00:00'\" # should be equal to refdate for D-HYDRO\n",
    "drrmodel.d3b_parameters['EndTime'] = \"'2016/06/03;00:00:00'\"\n",
    "drrmodel.d3b_parameters['RestartIn'] = 0\n",
    "drrmodel.d3b_parameters['RestartOut'] = 0\n",
    "drrmodel.d3b_parameters['RestartFileNamePrefix'] ='Test'\n",
    "drrmodel.d3b_parameters['UnsaturatedZone'] = 1\n",
    "drrmodel.d3b_parameters['UnpavedPercolationLikeSobek213']=-1\n",
    "drrmodel.d3b_parameters['VolumeCheckFactorToCF']=100000\n",
    "drrmodel.dimr_path = dimr_path\n",
    "print('Writing model')\n",
    "\n",
    "# # Create writer\n",
    "fm_writer = DFlowFMWriter(dfmmodel, output_dir= output_path, name='demo_simple')\n",
    "rr_writer = DFlowRRWriter(drrmodel, output_dir= output_path, name='demo_simple',wwtp=(199000.,396000.))\n",
    "\n",
    "# # Write as model\n",
    "# # The ldb is just for visualising in the interaktor - there is no RR component there.\n",
    "fm_writer.objects_to_ldb()\n",
    "fm_writer.write_all()\n",
    "rr_writer.write_all()"
   ]
  },
  {
   "cell_type": "markdown",
   "id": "38e1dad4-372a-4272-9701-ade7a5570492",
   "metadata": {},
   "source": [
    "Zip the model output for download."
   ]
  },
  {
   "cell_type": "code",
   "execution_count": null,
   "id": "4c4bc9ef-2baf-4535-a1ac-c1a42c2948d1",
   "metadata": {},
   "outputs": [],
   "source": [
    "shutil.make_archive('demo_model_1DRR', 'zip', output_path)"
   ]
  },
  {
   "cell_type": "markdown",
   "id": "0d62989b-830f-4821-9eaf-288e547ed19b",
   "metadata": {},
   "source": [
    "\n",
    "Finished! Start the coupled model by clicking run.bat in the output model, or import the dimr_config.xml in the GUI."
   ]
  },
  {
   "cell_type": "markdown",
   "id": "2c283c5d",
   "metadata": {},
   "source": [
    "Aanpassen raster:"
   ]
  },
  {
   "cell_type": "code",
   "execution_count": null,
   "id": "197e55d1",
   "metadata": {},
   "outputs": [],
   "source": [
    "import rasterio\n",
    "lugrid = rasterio.open(lu_file)\n",
    "meta = lugrid.meta.copy()\n",
    "meta.update(compress='lzw')\n",
    "meta['crs'] = rasterio.crs.CRS.from_dict(init='epsg:28992')\n",
    "lu = lugrid.read(1,)\n",
    "lu_2 = lu.copy()\n",
    "lu_2[lu==5] = 15\n",
    "with rasterio.open(os.path.join(data_path,'rasters/sobek_landuse_greenhouse.tif'), 'w', **meta) as dst:\n",
    "    dst.write(lu_2, indexes=1)\n"
   ]
  },
  {
   "cell_type": "code",
   "execution_count": null,
   "id": "37404fc4",
   "metadata": {},
   "outputs": [],
   "source": []
  }
 ],
 "metadata": {
  "kernelspec": {
   "display_name": "delft3dfmpy_extended",
   "language": "python",
   "name": "delft3dfmpy_extended"
  },
  "language_info": {
   "codemirror_mode": {
    "name": "ipython",
    "version": 3
   },
   "file_extension": ".py",
   "mimetype": "text/x-python",
   "name": "python",
   "nbconvert_exporter": "python",
   "pygments_lexer": "ipython3",
   "version": "3.8.13"
  }
 },
 "nbformat": 4,
 "nbformat_minor": 5
}
