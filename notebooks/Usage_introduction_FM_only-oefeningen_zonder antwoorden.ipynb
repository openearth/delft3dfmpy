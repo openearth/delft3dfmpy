{
 "cells": [
  {
   "cell_type": "markdown",
   "id": "8c3bad52",
   "metadata": {},
   "source": [
    "# Example of generating a 1D2D model - an overview of functionalities\n",
    "\n",
    "This notebook gives an overview of the functionalities of the D-HyDAMO module, part of the delft3dfmpy python package.\n",
    "\n",
    "For install instructions see: https://github.com/openearth/delft3dfmpy#installation\n",
    "\n",
    "Furthermore, it should be noted that recently added features were tested with dummy-data, which is included with this package. The generated model is, therefore, not necessarily a correct hydraulic representation, as some dummy structures were added and existing structures moved and/or adjusted. The purpose of this notebook is solely to illustrate the usage of the dhydamo module.\n",
    "\n",
    "This notebook corresponds to a major update of delt3dfmpy and is, therefore, not compatible with older versions. The main differences are:\n",
    "- input data should now be according the HyDAMO DAMO2.2 format instead of HyDAMO v12;\n",
    "- input data is no longer in GML-format but is contained in a geopackage (GPKG);\n",
    "- schematisation of paved nodes has changed. Within sewer areas, a paved node is created for every overflow location (which represents the corresponding fraction of the sewer area). Outside sewer areas, a paved node is created for the paved fraction of a catchment, which does NOT intersect with a sewage area;\n",
    "- where the example catchment for older versions was the Moergestelsbroek, now the example model is based on a part of the Oostrumsche beek.\n"
   ]
  },
  {
   "cell_type": "markdown",
   "id": "a52eb035",
   "metadata": {},
   "source": [
    "## Jupyter-shortcuts:\n",
    "\n",
    "    [H]: bekijken van alle shortcuts\n",
    "    [SHIFT-Enter]: cel runnen en doorgaan\n",
    "    [CNTRL-Enter]: runnen geselecteerde cellen\n",
    "    [A]: nieuwe cel boven de huidge\n",
    "    [B]: nieuwe cel onder de huidige\n",
    "    [D-D]: cel verwijderen\n",
    "    [SHIFT-TAB]: argumenten van functie weergeven (cel moet eerst gedraaid zijn)"
   ]
  },
  {
   "cell_type": "markdown",
   "id": "8a897372",
   "metadata": {},
   "source": [
    "## Initialize"
   ]
  },
  {
   "cell_type": "markdown",
   "id": "eb077165",
   "metadata": {},
   "source": [
    "Load Python libraries"
   ]
  },
  {
   "cell_type": "code",
   "execution_count": null,
   "id": "c35640aa",
   "metadata": {},
   "outputs": [],
   "source": [
    "# Basis\n",
    "import os\n",
    "import sys\n",
    "import shutil\n",
    "from platform import python_version\n",
    "import numpy as np\n",
    "sys.path.append('../')      \n",
    "# Importing relevant classes from delft3dfmpy\n",
    "from delft3dfmpy import DFlowFMModel, HyDAMO, Rectangular, DFlowFMWriter\n",
    "from delft3dfmpy import DFlowRRModel, DFlowRRWriter\n",
    "from delft3dfmpy.datamodels.common import ExtendedGeoDataFrame\n",
    "\n",
    "# shapefiles IO\n",
    "import geopandas as gpd\n",
    "\n",
    "# Import csv\n",
    "import pandas as pd\n",
    "\n",
    "# Geometries\n",
    "from shapely.geometry import Polygon, LineString, Point\n",
    "\n",
    "# Plotting\n",
    "import matplotlib.pyplot as plt\n",
    "from matplotlib.collections import LineCollection\n",
    "\n",
    "%matplotlib inline"
   ]
  },
  {
   "cell_type": "markdown",
   "id": "3a3d1fc0",
   "metadata": {},
   "source": [
    "Change these paths to access the data and to use all functionalities. dflowfm_path is needed to refine the 2D-grid. It is not included in the D-Hydro installation. In the next major update, we will use meshkernel functionality and this executable will no longer be needed."
   ]
  },
  {
   "cell_type": "code",
   "execution_count": null,
   "id": "d7e21341",
   "metadata": {},
   "outputs": [],
   "source": [
    "# path to the package containing the dummy-data\n",
    "data_path = os.path.abspath('../data')\n",
    "\n",
    "# path to dflowfm. Optional; needed for 2d-mesh refining\n",
    "# dflowfm_path = r'D:\\dflowfm-x64-1.2.105.67228M'\n",
    "dflowfm_path = r'D:\\3640.20\\software\\dflowfm-x64-1.2.104.66827M'\n",
    "\n",
    "# path to write the models\n",
    "output_path = os.path.abspath('demo_1d')\n",
    "\n",
    "# path to DIMR for a correct run.bat file\n",
    "dimr_path = r\"C:\\Program Files\\Deltares\\D-HYDRO Suite 2022.03 1D2D\\plugins\\DeltaShell.Dimr\\kernels\\x64\\dimr\\scripts\\run_dimr.bat\""
   ]
  },
  {
   "cell_type": "code",
   "execution_count": null,
   "id": "a3792c9d",
   "metadata": {},
   "outputs": [],
   "source": [
    "# path to dll's that are needed to run gridgeom.dll, which is needed for 2D-mesh generation. Setting the path is only needed for Python >= version 3.8\n",
    "if float('.'.join(python_version().split('.')[0:2])) >= 3.8: \n",
    "    dll_path = r'C:\\Program Files\\Deltares\\D-HYDRO Suite 2022.03 1D2D\\plugins\\DeltaShell.Dimr\\kernels\\x64\\share\\bin'\n"
   ]
  },
  {
   "cell_type": "markdown",
   "id": "c53eff73",
   "metadata": {},
   "source": [
    "## Read HYDAMO"
   ]
  },
  {
   "cell_type": "markdown",
   "id": "5f2c425a",
   "metadata": {},
   "source": [
    "Along with the HyDAMO DAMO2.2 format, the format of input data changed from GML to GPKG. \n",
    "In the following, we initialize a hydamo-instance and show the content of the GPKG-file containing all HyDAMO DAMO2.2 data."
   ]
  },
  {
   "cell_type": "code",
   "execution_count": null,
   "id": "02c14d02",
   "metadata": {},
   "outputs": [],
   "source": [
    "gpkg_file = os.path.join(data_path,'gpkg/Example_model.gpkg')\n",
    "hydamo = HyDAMO(extent_file=os.path.join(data_path,'gis/OLO_subcatchment.shp'))\n",
    "hydamo.branches.show_gpkg(gpkg_file)"
   ]
  },
  {
   "cell_type": "markdown",
   "id": "9ceac488",
   "metadata": {},
   "source": [
    "In the code section below the content of the GPKG is added. For more info on how to import its different elements, see: https://hkvconfluence.atlassian.net/wiki/spaces/DHYD/overview\n",
    "\n",
    "The general steps for importing a HyDAMO object are:\n",
    "- Read the objects from the GPKG file.\n",
    "- Snap the structures to the branches\n",
    "- Remove non-snapped structures, perhaps because the distance to the nearest branch was too large.\n",
    "\n",
    "A few remarks:\n",
    "- The converter requires a number column names with a specfic name. If the name in the GPKG layer does not match this name, it can be converted with the 'column_mapping'\n",
    "- The branch or structure data can also be loaded from shapefiles. Note that shapefiles have a max column length of 10 characters, so probably a lot of column_mapping is necessary."
   ]
  },
  {
   "cell_type": "code",
   "execution_count": null,
   "id": "fc3a9a8c",
   "metadata": {},
   "outputs": [],
   "source": [
    "# branches\n",
    "hydamo.branches.read_gpkg_layer(gpkg_file, layer_name='HydroObject', index_col='code')\n",
    "\n",
    "# these branches are not connected to the main branch ('W_242466_0','W_242465_0','W_1386_0', 'W_2352_0') or have no profile (W_1698_0) - drop them.\n",
    "branches_to_drop = ['W_242466_0','W_242465_0','W_1386_0', 'W_1698_0', 'W_2352_0']\n",
    "hydamo.branches.drop(branches_to_drop, axis=0, inplace=True)\n",
    "\n",
    "# profile points. Profiles that are associated with structures are connected through profile_line and profile_group objects.\n",
    "hydamo.profile.read_gpkg_layer(gpkg_file, layer_name='ProfielPunt', groupby_column = 'profiellijnid', order_column='codevolgnummer') \n",
    "hydamo.profile_roughness.read_gpkg_layer(gpkg_file, layer_name='RuwheidProfiel') \n",
    "hydamo.profile.snap_to_branch(hydamo.branches, snap_method='intersecting')\n",
    "hydamo.profile.dropna(axis=0, inplace=True, subset=['branch_offset'])\n",
    "hydamo.profile_line.read_gpkg_layer(gpkg_file, layer_name='profiellijn', id_col='globalid')\n",
    "hydamo.profile_group.read_gpkg_layer(gpkg_file, layer_name='profielgroep')\n",
    "hydamo.profile.drop('code', axis=1, inplace=True)\n",
    "hydamo.profile['code'] = hydamo.profile['profiellijnid']\n",
    "\n",
    "# parametrised profile\n",
    "hydamo.param_profile.read_gpkg_layer(gpkg_file, layer_name='hydroobject_normgp')\n",
    "hydamo.param_profile_values.read_gpkg_layer(gpkg_file, layer_name='normgeparamprofielwaarde')\n",
    "\n",
    "#culverts\n",
    "hydamo.culverts.read_gpkg_layer(gpkg_file, layer_name='DuikerSifonHevel', index_col='code')\n",
    "hydamo.culverts.snap_to_branch(hydamo.branches, snap_method='ends', maxdist=5)\n",
    "hydamo.culverts.dropna(axis=0, inplace=True, subset=['branch_offset'])\n",
    "\n",
    "#oefening 1\n",
    "\n",
    "\n",
    "# weirs - with associated 'kunstwerkopening' and 'regelmiddel'\n",
    "hydamo.weirs.read_gpkg_layer(gpkg_file, layer_name='Stuw', index_col='code')\n",
    "hydamo.weirs.snap_to_branch(hydamo.branches, snap_method='overal', maxdist=10)\n",
    "hydamo.weirs.dropna(axis=0, inplace=True, subset=['branch_offset'])\n",
    "hydamo.opening.read_gpkg_layer(gpkg_file, layer_name='Kunstwerkopening')\n",
    "hydamo.management_device.read_gpkg_layer(gpkg_file, layer_name='Regelmiddel')\n",
    "\n",
    "#oefening 1 - Bonus\n",
    "\n",
    "\n",
    "# pumps\n",
    "hydamo.pumpstations.read_gpkg_layer(gpkg_file, layer_name='Gemaal',index_col='code')\n",
    "hydamo.pumpstations.snap_to_branch(hydamo.branches, snap_method='overal', maxdist=10)\n",
    "hydamo.pumps.read_gpkg_layer(gpkg_file,layer_name='Pomp', index_col='code')\n",
    "hydamo.management.read_gpkg_layer(gpkg_file, layer_name='Sturing', index_col='code')\n",
    "\n",
    "# bridge\n",
    "hydamo.bridges.read_gpkg_layer(gpkg_file, layer_name='Brug', index_col='code')\n",
    "hydamo.bridges.snap_to_branch(hydamo.branches, snap_method='overal', maxdist=100)\n",
    "hydamo.bridges.dropna(axis=0, inplace=True, subset=['branch_offset'])\n",
    "\n",
    "# boundary conditions\n",
    "hydamo.boundary_conditions.read_gpkg_layer(gpkg_file, layer_name='hydrologischerandvoorwaarde', index_col='code')\n",
    "hydamo.boundary_conditions.snap_to_branch(hydamo.branches, snap_method='overal', maxdist=10)\n",
    "    "
   ]
  },
  {
   "cell_type": "code",
   "execution_count": null,
   "id": "c4ae49f6",
   "metadata": {},
   "outputs": [],
   "source": [
    "print('Deze stuwen verwijderen we omdat ze niet meer aanwezig zijn:',stuwen_niet_aanwezig)"
   ]
  },
  {
   "cell_type": "markdown",
   "id": "0245bfab",
   "metadata": {},
   "source": [
    "We do not need catchments if we do not schematise RR, but we can use the same locations of the laterals. In this case, the laterals include a column containing the specific discharge. The locations of the laterals are snapped to the branches."
   ]
  },
  {
   "cell_type": "code",
   "execution_count": null,
   "id": "b3d780aa",
   "metadata": {},
   "outputs": [],
   "source": [
    "hydamo.laterals.read_gpkg_layer(gpkg_file,layer_name='lateraleknoop')\n",
    "hydamo.laterals.snap_to_branch(hydamo.branches, snap_method='overal', maxdist=1000)"
   ]
  },
  {
   "cell_type": "code",
   "execution_count": null,
   "id": "906629f8",
   "metadata": {},
   "outputs": [],
   "source": [
    "fn_background = os.path.join(data_path, 'gis', 'achtergrond_oostrum.png')\n",
    "plt.rcParams['axes.edgecolor'] = 'w'\n",
    "\n",
    "fig, ax = plt.subplots(figsize=(10, 10))\n",
    "\n",
    "#ax.fill(*hydamo.clipgeo.exterior.xy, color='w', alpha=0.5)\n",
    "#ax.xaxis.set_visible(False)\n",
    "#ax.yaxis.set_visible(False)\n",
    "#map_extent = [189287.43330048519419506,389693.68099274818086997, 210845.66716714628273621,398529.35119274590397254]\n",
    "ax.set_xlim(196000, 205000)\n",
    "ax.set_ylim(391000,397000)\n",
    "\n",
    "achtergrond = plt.imread(fn_background)\n",
    "ax.imshow(achtergrond, extent=(189287, 210845, 389693, 398529), interpolation='lanczos')\n",
    "\n",
    "hydamo.branches.plot(ax=ax, label='Channel', linewidth=2, color='blue')\n",
    "hydamo.profile.plot(ax=ax, color='red', label='Cross section', linewidth=1)\n",
    "hydamo.culverts.centroid.plot(ax=ax, color='yellow', label='Culvert', markersize=20, zorder=10, marker='^')\n",
    "hydamo.weirs.centroid.plot(ax=ax, color='green', label='Weir', markersize=25, zorder=10, marker='^')\n",
    "hydamo.bridges.plot(ax=ax,color='red',label='Bridge',markersize=20,zorder=10, marker='^')\n",
    "hydamo.pumpstations.plot(ax=ax, color='orange', label='Pump', marker='s', markersize=125, zorder=10, facecolor='none', linewidth=2.5)\n",
    "hydamo.boundary_conditions.plot(ax=ax, color='red', label='Boundary', marker='s', markersize=125, zorder=10, facecolor='red', linewidth=0)\n",
    "ax.legend()\n",
    "\n",
    "fig.tight_layout()"
   ]
  },
  {
   "cell_type": "markdown",
   "id": "25411ca1",
   "metadata": {},
   "source": [
    "## Generate the D-HYDRO FM schematisation"
   ]
  },
  {
   "cell_type": "markdown",
   "id": "2624bef2",
   "metadata": {},
   "source": [
    "### 1D-network"
   ]
  },
  {
   "cell_type": "markdown",
   "id": "e4c7a49c",
   "metadata": {},
   "source": [
    "We first import the structures from the HyDAMO-object, since the structures' positions are necessary for defining the position of the 1D-mesh. Structures can also be added without the HyDAMO imports. One weir is added manually as an example, but equivalent functions are available for all implemented structures.\n",
    "\n",
    "Note that for importing most structures multiple objects are needed from the GPKG. For more info on how to add structures (directly or from HyDAMO), see: https://hkvconfluence.atlassian.net/wiki/spaces/DHYD/overview.\n",
    "\n",
    " - for weirs, a corresponding profile is looked up in the crossections. If one is found, the weir is implemented as a universal weir. If it is not found, a regular (rectangular) weir will be used. The cross-section ('hydamo.profile') should be related through 'hydamo.profile_line' to a 'hydamo.profile_group', which contains a 'stuwid' column which is equal to the GlobalID of the corresponding weir. The weir object can also include orifices, in that case the field 'overlaatonderlaat' in the 'management_device-object ('regelmiddel') is 'onderlaat'. For weirs it should be 'overlaat'.\n",
    " \n",
    " - for culverts, a regelmiddel can be used to model a 'schuif' and/or a 'terugslagklep'. This is specified by the field 'soortregelmiddel'. In case of a 'terugslagklep', the flow direction is set to 'positive' instead of 'both'. In case of a 'schuif', a valve is implemented. Note that in DAMO2.2, an 'afsluitmiddel' can contain the same information. For now, only a regelmiddel (management_device) is implemented. In a next version, the flexibility to use both will be included. \n",
    " \n",
    " - bridges need an associated crosssection. This is idential to universal weirs, but here the 'hydamo.profile_group'-object should contain a field 'brugid'. \n",
    " \n",
    " - pumps are composed from 'hydamo.pumpstations', 'hydamo.pumps' and 'hydamo.managmement'. Only suction-side drection is implemented. Maximal capacity should be in m3/min.\n",
    "\n",
    "In most cases, these 'extra' arguments are optional, i.e. they are not required and can be left out. Some are required:\n",
    "- pumps really need all 3 objects ('hydamo.pumpstations', 'hydamo.pumps' and 'hydamo.managmement');\n",
    "- bridges really need an associated crosssection (see above);\n",
    "\n",
    "For more info on the structure definitions one is referred to the D-Flow FM user manual: https://content.oss.deltares.nl/delft3d/manuals/D-Flow_FM_User_Manual.pdf."
   ]
  },
  {
   "cell_type": "code",
   "execution_count": null,
   "id": "f0e62291",
   "metadata": {},
   "outputs": [],
   "source": [
    "# Collect structures\n",
    "dfmmodel = DFlowFMModel()\n",
    "dfmmodel.structures.io.weirs_from_hydamo(hydamo.weirs, profile_groups=hydamo.profile_group, profile_lines=hydamo.profile_line, profiles=hydamo.profile, opening=hydamo.opening, management_device=hydamo.management_device, management=None)\n",
    "dfmmodel.structures.io.culverts_from_hydamo(hydamo.culverts, management_device=hydamo.management_device)\n",
    "dfmmodel.structures.io.bridges_from_hydamo(hydamo.bridges, profile_groups=hydamo.profile_group, profile_lines=hydamo.profile_line, profiles=hydamo.profile)\n",
    "dfmmodel.structures.io.pumps_from_hydamo(pompen=hydamo.pumps, sturing=hydamo.management, gemalen=hydamo.pumpstations)"
   ]
  },
  {
   "cell_type": "markdown",
   "id": "5995a874",
   "metadata": {},
   "source": [
    "It is also possible to add extra structures like this:"
   ]
  },
  {
   "cell_type": "code",
   "execution_count": null,
   "id": "e28cc3e2",
   "metadata": {},
   "outputs": [],
   "source": [
    "#oefening 2\n"
   ]
  },
  {
   "cell_type": "markdown",
   "id": "df248a07",
   "metadata": {},
   "source": [
    "Add the branches and generate a 1D computational mesh."
   ]
  },
  {
   "cell_type": "code",
   "execution_count": null,
   "id": "d7042c61",
   "metadata": {},
   "outputs": [],
   "source": [
    "dfmmodel.network.set_branches(hydamo.branches)\n",
    "#oefening 3\n",
    "dfmmodel.network.generate_1dnetwork(one_d_mesh_distance=20.0, seperate_structures=True)\n",
    "\n",
    "\n"
   ]
  },
  {
   "cell_type": "markdown",
   "id": "4709eea1",
   "metadata": {},
   "source": [
    "Add cross sections. Here two hydamo files are used. First the imported cross sections. If after this there are branch objects left without a cross sections, it is derived from the norm parametrised profile (Dutch: legger).\n",
    "\n",
    "DAMO2.2 contains two roughness variants, 'ruwheidhoog' en ruwheidlaag'. Using roughness_variant, \"High\", or \"Low\", we choose one."
   ]
  },
  {
   "cell_type": "code",
   "execution_count": null,
   "id": "51b50c3f",
   "metadata": {},
   "outputs": [],
   "source": [
    "# Add cross sections from hydamo\n",
    "dfmmodel.crosssections.io.from_hydamo(\n",
    "    crosssections=hydamo.profile,\n",
    "    crossection_roughness=hydamo.profile_roughness,\n",
    "    param_profile=hydamo.param_profile,\n",
    "    param_profile_values=hydamo.param_profile_values,   \n",
    "    branches=hydamo.branches,\n",
    "    roughness_variant = 'High'\n",
    ")\n",
    "\n",
    "\n",
    "print(f'{len(dfmmodel.crosssections.get_branches_without_crosssection())} branches are still missing a cross section.')\n",
    "print(f'{len(dfmmodel.crosssections.get_structures_without_crosssection())} structures are still missing a cross section.')"
   ]
  },
  {
   "cell_type": "markdown",
   "id": "075d61d0",
   "metadata": {},
   "source": [
    "Plot the branches without crosssection."
   ]
  },
  {
   "cell_type": "code",
   "execution_count": null,
   "id": "de50efc1",
   "metadata": {},
   "outputs": [],
   "source": [
    "missing = dfmmodel.crosssections.get_branches_without_crosssection()\n",
    "plt.rcParams['axes.edgecolor'] = 'w'\n",
    "fig, ax = plt.subplots(figsize=(16, 16))\n",
    "\n",
    "hydamo.profile.plot(ax=ax, color='C3', label='dwarsprofielen', linewidth=5)\n",
    "hydamo.branches.loc[missing,:].plot(ax=ax, color='C4', label='geen dwarsprofiel',linewidth=30)\n",
    "hydamo.branches.plot(ax=ax, label='Watergangen')\n",
    "#gpd.read_file('../gis/roer_hoofdtak.shp').plot(ax=ax, color='C5', label='hoofdtak Roer',linewidth=4, alpha=0.5)\n",
    "ax.get_xaxis().set_visible(False)\n",
    "ax.get_yaxis().set_visible(False)\n",
    "ax.legend()"
   ]
  },
  {
   "cell_type": "markdown",
   "id": "a3fd5b6a",
   "metadata": {},
   "source": [
    "Partly, missing crosssections can be resolved by interpolating over the main branch. We set all branches with identical names to the same order numbers and assign those to the branches. D-Hydro will then interpolate the cross-sections over the branches."
   ]
  },
  {
   "cell_type": "code",
   "execution_count": null,
   "id": "97ac14e9",
   "metadata": {},
   "outputs": [],
   "source": [
    "j=0\n",
    "hydamo.branches['order'] = np.nan\n",
    "for i in hydamo.branches.naam.unique():\n",
    "    if i != None:\n",
    "        if all(x in missing for x in hydamo.branches.loc[hydamo.branches.loc[:,'naam']==i, 'code']) == False:\n",
    "            hydamo.branches.loc[hydamo.branches.loc[:,'naam']==i, 'order'] = int(j)\n",
    "            j=j+1\n",
    "\n",
    "interpolation=[]\n",
    "for i in hydamo.branches.itertuples():\n",
    "    if i.order > 0:\n",
    "        dfmmodel.network.set_branch_order(hydamo.branches.loc[i.Index,'code'], idx= int(hydamo.branches.at[i.Index,'order']))\n",
    "        interpolation.append(hydamo.branches.loc[i.Index,'code'])"
   ]
  },
  {
   "cell_type": "code",
   "execution_count": null,
   "id": "b4a489f0",
   "metadata": {},
   "outputs": [],
   "source": [
    "missing_after_interpolation =np.setdiff1d(missing,interpolation)\n",
    "print('After interpolation', len(missing_after_interpolation), 'crosssections are missing.')"
   ]
  },
  {
   "cell_type": "code",
   "execution_count": null,
   "id": "63f0944c",
   "metadata": {},
   "outputs": [],
   "source": [
    "plt.rcParams['axes.edgecolor'] = 'w'\n",
    "fig, ax = plt.subplots(figsize=(16, 16))\n",
    "\n",
    "hydamo.profile.plot(ax=ax, color='C3', label='dwarsprofielen', linewidth=5)\n",
    "hydamo.branches.loc[missing_after_interpolation,:].plot(ax=ax, color='C4', label='geen dwarsprofiel',linewidth=30)\n",
    "hydamo.branches.plot(ax=ax, label='Watergangen')\n",
    "#gpd.read_file('../gis/roer_hoofdtak.shp').plot(ax=ax, color='C5', label='hoofdtak Roer',linewidth=4, alpha=0.5)\n",
    "ax.get_xaxis().set_visible(False)\n",
    "ax.get_yaxis().set_visible(False)\n",
    "ax.legend()"
   ]
  },
  {
   "cell_type": "markdown",
   "id": "9ef8a6bb",
   "metadata": {},
   "source": [
    "If there are still missing cross sections left, a default one can be added. To do so, add a cross section definition, and assign it with a vertical offset (shift). To prevent that default definitions are assigned to locations that will be interpolated, these locations can be specified."
   ]
  },
  {
   "cell_type": "code",
   "execution_count": null,
   "id": "13d125cb",
   "metadata": {},
   "outputs": [],
   "source": [
    "# Set a default cross section\n",
    "#oefening 4\n",
    "default = dfmmodel.crosssections.add_rectangle_definition(\n",
    "    height=5.0, width=5.0, closed=False, roughnesstype='Strickler', roughnessvalue=30, name='default')\n",
    "dfmmodel.crosssections.set_default_definition(definition=default, shift=18.0)\n",
    "dfmmodel.crosssections.set_default_locations(missing_after_interpolation)"
   ]
  },
  {
   "cell_type": "markdown",
   "id": "bbb0e6a7",
   "metadata": {},
   "source": [
    "### Boundary condititions"
   ]
  },
  {
   "cell_type": "markdown",
   "id": "177d6820",
   "metadata": {},
   "source": [
    "Boundary conditions can be set from HyDAMO (as previously read) or added here. Here, because we use a subset of the Oostrumsche beek, we read the downstream water level boundary from the DAMO2.2 data and add a discharge boundary condition at the upper boundary."
   ]
  },
  {
   "cell_type": "code",
   "execution_count": null,
   "id": "9aeafdcb",
   "metadata": {},
   "outputs": [],
   "source": [
    "dfmmodel.external_forcings.io.from_hydamo(hydamo.boundary_conditions)\n",
    "\n",
    "#oefening 5: voeg een randvoorwaarden toen\n"
   ]
  },
  {
   "cell_type": "code",
   "execution_count": null,
   "id": "d61ab9c6",
   "metadata": {},
   "outputs": [],
   "source": [
    "dfmmodel.external_forcings.add_boundary_condition()"
   ]
  },
  {
   "cell_type": "markdown",
   "id": "5be1b9b8",
   "metadata": {},
   "source": [
    "### Initial conditions"
   ]
  },
  {
   "cell_type": "markdown",
   "id": "2cee10de",
   "metadata": {},
   "source": [
    "Set the initial water depth to 0.5 m. It is also possible to set a global water level using the equivalent function \"set_initial_waterlevel\"."
   ]
  },
  {
   "cell_type": "code",
   "execution_count": null,
   "id": "0a00d13f",
   "metadata": {},
   "outputs": [],
   "source": [
    "# # Initial water depth is set to 0.5 m\n",
    "dfmmodel.external_forcings.set_initial_waterdepth(0.5)"
   ]
  },
  {
   "cell_type": "markdown",
   "id": "a25f7963",
   "metadata": {},
   "source": [
    "### Lateral discharges"
   ]
  },
  {
   "cell_type": "markdown",
   "id": "e24c9c46",
   "metadata": {},
   "source": [
    "Lateral discharges are schematised using the function 'read_laterals', which receives as arguments the locations of the laterals (see above), discharge (timeseries) and, if applicable, RR-boundaries (not present here).\n",
    "\n",
    "The function first tries to couple a lateral location to an RR-boundary. In D-Hydro, a real-time coupling is created. If no RR-boundary is found, the lateral-discharges object is searched for the lateral. This object can be of two types:\n",
    "- a Pandas series, that contains one number (in m3/s) for every lateral. The 'code' of the lateral should be the index of the series. See example below.\n",
    "- a Pandas dataframe containing time series, with a column for every lateral node. The 'code' of the lateral should be equal to the column names, and the index should contain the timestamps."
   ]
  },
  {
   "cell_type": "code",
   "execution_count": null,
   "id": "a8062c49",
   "metadata": {},
   "outputs": [],
   "source": [
    "lateral_discharges = hydamo.laterals.afvoer\n",
    "lateral_discharges.index = hydamo.laterals.code\n",
    "dfmmodel.external_forcings.io.read_laterals(locations=hydamo.laterals, lateral_discharges=lateral_discharges, rr_boundaries=None)"
   ]
  },
  {
   "cell_type": "markdown",
   "id": "bac84fd6",
   "metadata": {},
   "source": [
    "### Generate the 2D mesh"
   ]
  },
  {
   "cell_type": "markdown",
   "id": "c83cdff1",
   "metadata": {},
   "source": [
    "To add a mesh, currently 2 options exist:\n",
    "1. The converter can generate a relatively simple, rectangular mesh, with a rotation or refinement. Note that rotation _and_ refinement is currently not possible. In the section below we generate a refined 2D mesh with the following steps:\n",
    "\n",
    "    - Generate grid within a polygon. The polygon is the extent given to the HyDAMO model.\n",
    "    - Refine along the main branch\n",
    "    - Determine altitude from a DEM.\n",
    "\n",
    "    The 'refine'-method requires the dflowfm.exe executable. If this is not added to the system path, it can be provided in an optional argument to refine (dflowfm_path)."
   ]
  },
  {
   "cell_type": "markdown",
   "id": "a4babc24",
   "metadata": {},
   "source": [
    "In this training we use binder, which is Linux-based. At the moment generation of a 2D-mesh and refining it is not possible. For now, we import a mesh (option 2)."
   ]
  },
  {
   "cell_type": "code",
   "execution_count": null,
   "id": "14419a28",
   "metadata": {},
   "outputs": [],
   "source": [
    "# # Create mesh object\n",
    "# mesh = Rectangular()\n",
    "# cellsize = 25\n",
    "\n",
    "# # Generate mesh within the defined bounds in the shapefile 2D_extent\n",
    "# if float('.'.join(python_version().split('.')[0:2])) >= 3.8:\n",
    "#     os.add_dll_directory(dll_path)\n",
    "\n",
    "# extent2D = gpd.read_file(r\"../data/gis/2D_extent.shp\")\n",
    "# mesh.generate_within_polygon(extent2D.unary_union, cellsize=cellsize, rotation=0)\n",
    "\n",
    "# # Refine the model (2 steps) along the main branch. To do so we generate a buffer around the main branch.\n",
    "# buffered_branch = hydamo.branches.loc[['W_242223_0', 'W_242224_0'], 'geometry'].unary_union.buffer(10)\n",
    "\n",
    "# # optional: only possible with dflowfm.exe\n",
    "# mesh.refine(polygon=[buffered_branch], level=[1], cellsize=cellsize, dflowfm_path=dflowfm_path)\n",
    "\n",
    "# # Determine the altitude from a digital elevation model\n",
    "# rasterpath = '../data/rasters/AHN_2m_clipped_filled.tif'\n",
    "# mesh.altitude_from_raster(rasterpath)\n",
    "\n",
    "# # The full DEM is not added to this notebook. Instead a constant bed level is used\n",
    "# # mesh.altitude_constant(20.0)\n",
    "\n",
    "# # Add to schematisation\n",
    "# dfmmodel.network.add_mesh2d(mesh)"
   ]
  },
  {
   "cell_type": "markdown",
   "id": "d2654928",
   "metadata": {},
   "source": [
    "2) a more complex mesh can be created in other software (such as SMS) and then imported in the converter: (uncomment to activate)"
   ]
  },
  {
   "cell_type": "code",
   "execution_count": null,
   "id": "909001a9",
   "metadata": {},
   "outputs": [],
   "source": [
    "# from delft3dfmpy.core.mesh2d import Mesh2D\n",
    "# mesh = Mesh2D()\n",
    "\n",
    "# if float('.'.join(python_version().split('.')[0:2])) >= 3.8:\n",
    "#     os.add_dll_directory(dll_path)\n",
    "\n",
    "# # import the geometry\n",
    "# mesh.geom_from_netcdf(os.path.join(data_path, 'exported_mesh.nc'))\n",
    "# # Determine the altitude from a digital elevation model\n",
    "# rasterpath = os.path.join(data_path,'rasters','AHN_2m_clipped_filled.tif')\n",
    "# mesh.altitude_from_raster(rasterpath)\n",
    "\n",
    "# # and add to the model\n",
    "# dfmmodel.network.add_mesh2d(mesh)"
   ]
  },
  {
   "cell_type": "code",
   "execution_count": null,
   "id": "f879742e",
   "metadata": {},
   "outputs": [],
   "source": []
  },
  {
   "cell_type": "markdown",
   "id": "fc4508af",
   "metadata": {},
   "source": [
    "### Add 1D2D-links"
   ]
  },
  {
   "cell_type": "markdown",
   "id": "83360b84",
   "metadata": {},
   "source": [
    "For linking the 1D and 2D model, three options are available:\n",
    "1. Generating links from each 1d node to the nearest 2d node.\n",
    "2. Generating links from each 2d node to the nearest 1d node (intersecting==True)\n",
    "3. Generating links from each 2d node to the nearest 1d node, while not allowing the links to intersect other cells (intersecting==True).\n",
    "\n",
    "Intersecting indicates whether or not the 2D cells cross the 1D network (lateral versus embedded links).\n",
    "So, option 3 is relevant when there is no 2d mesh on top of the 1d mesh: the lateral links.\n",
    "\n",
    "Note that for each option a maximum link length can be chosen, to prevent creating long (and perhaps unrealistic) links."
   ]
  },
  {
   "cell_type": "code",
   "execution_count": null,
   "id": "55928071",
   "metadata": {},
   "outputs": [],
   "source": [
    "# del dfmmodel.network.links1d2d.faces2d[:]\n",
    "# del dfmmodel.network.links1d2d.nodes1d[:]\n",
    "\n",
    "# # Generate 1D2D links with a maximum length of 50 m\n",
    "# dfmmodel.network.links1d2d.generate_1d_to_2d(max_distance=50)\n",
    "\n",
    "# # No links will be generated from 1D nodes with a boundary condition\n",
    "# dfmmodel.network.links1d2d.remove_1d_endpoints()"
   ]
  },
  {
   "cell_type": "code",
   "execution_count": null,
   "id": "67401f58",
   "metadata": {},
   "outputs": [],
   "source": [
    "# fig, ax = plt.subplots(figsize=(13, 10))\n",
    "# ax.set_aspect(1.0)\n",
    "\n",
    "# segments = dfmmodel.network.mesh2d.get_segments()\n",
    "# ax.add_collection(LineCollection(segments, color='0.3', linewidths=0.5, label='2D-mesh'))\n",
    "\n",
    "# links = dfmmodel.network.links1d2d.get_1d2dlinks()\n",
    "# ax.add_collection(LineCollection(links, color='k', linewidths=0.5))\n",
    "# ax.plot(links[:, :, 0].ravel(), links[:, :, 1].ravel(), color='k', marker='.', ls='', label='1D2D-links')\n",
    "\n",
    "# for i, p in enumerate([buffered_branch]):\n",
    "#     ax.plot(*p.exterior.xy, color='C3', lw=1.5, zorder=10, alpha=0.8, label='Refinement buffer' if i==0 else None)\n",
    "\n",
    "# hydamo.branches.plot(ax=ax, color='C0', lw=2.5, alpha=0.8, label='1D-mesh')\n",
    "\n",
    "# ax.legend()\n",
    "\n",
    "# ax.set_xlim(199500, 201000)\n",
    "# ax.set_ylim(395500, 396600);"
   ]
  },
  {
   "cell_type": "markdown",
   "id": "346ed922",
   "metadata": {},
   "source": [
    "### Observation points"
   ]
  },
  {
   "cell_type": "markdown",
   "id": "a6736fc7",
   "metadata": {},
   "source": [
    "Observation points are now written in the new format, where once can discriminate between 1D ('1d') and 2D ('2d') observation points. This can be done using the optional argument 'locationTypes'. If it is omitted, all points are assumed to be 1d. 1D-points are always snapped to a the nearest branch. 2D-observation points are always defined by their X/Y-coordinates.\n",
    "\n",
    "Note: add_points can be called only once: once dfmodel.observation_points is filled,the add_points-method is not available anymore. Observation point coordinates can be definied eiher as an (x,y)-tuple or as a shapely Point-object."
   ]
  },
  {
   "cell_type": "code",
   "execution_count": null,
   "id": "da53d08f",
   "metadata": {},
   "outputs": [],
   "source": [
    "dfmmodel.observation_points.add_points([Point((200200,395600)),(200200,396200)],['ObsPt1','ObsPt2'], locationTypes=['1d','1d'], snap_distance=10.)"
   ]
  },
  {
   "cell_type": "markdown",
   "id": "4d7da294",
   "metadata": {},
   "source": [
    "## Writing the model"
   ]
  },
  {
   "cell_type": "markdown",
   "id": "ac3245e5",
   "metadata": {},
   "source": [
    "### Settings and writing\n",
    "\n",
    "Finally, we adjust some settings and export the FM-model. For more info on the settings: https://content.oss.deltares.nl/delft3d/manuals/D-Flow_FM_User_Manual.pdf\n",
    "\n",
    "The 1D/2D model (FM) is written to the sub-folder 'fm'. By adding 'dimr_path', also a dimr-config and a run.bat is included in the fm-folder to to run the model in DIMR. To open in the GUI, import dimr_config.xml or the MDU."
   ]
  },
  {
   "cell_type": "code",
   "execution_count": null,
   "id": "3d029574",
   "metadata": {},
   "outputs": [],
   "source": [
    "# for FM model\n",
    "dfmmodel.mdu_parameters['refdate'] = 20160601\n",
    "dfmmodel.mdu_parameters['tstart'] = 0.0 * 3600\n",
    "dfmmodel.mdu_parameters['tstop'] =  24.0 * 3600\n",
    "dfmmodel.mdu_parameters['hisinterval'] = '120. 0. 0.'\n",
    "dfmmodel.mdu_parameters['cflmax'] = 0.7\n",
    "dfmmodel.mdu_parameters['OutputDir'] = 'output'\n",
    "dfmmodel.mdu_parameters['useVolumeTables'] = 1 # oparameter setting advised by Deltares for better performance\n",
    "dfmmodel.mdu_parameters['increment'] = 0.2 # oparameter setting advised by Deltares for better performance\n",
    "dfmmodel.mdu_parameters['NcFormat'] = 4 # oparameter setting advised by Deltares for better performance\n",
    "dfmmodel.mdu_parameters['NcNoForcedFlush'] = 1 # oparameter setting advised by Deltares for better performance\n",
    "dfmmodel.mdu_parameters['MapFormat'] = 4 # oparameter setting advised by Deltares for better performance\n",
    "dfmmodel.mdu_parameters['NcNoUnlimited'] = 1 # oparameter setting advised by Deltares for better performance\n",
    "\n",
    "dfmmodel.dimr_path = dimr_path\n",
    "\n",
    "print('Writing model')\n",
    "\n",
    "# # Create writer\n",
    "fm_writer = DFlowFMWriter(dfmmodel, output_dir= output_path, name='demo')\n",
    "\n",
    "# # Write as model\n",
    "fm_writer.objects_to_ldb()"
   ]
  },
  {
   "cell_type": "code",
   "execution_count": null,
   "id": "6ab92711",
   "metadata": {
    "tags": []
   },
   "outputs": [],
   "source": [
    "fm_writer.write_all()"
   ]
  },
  {
   "cell_type": "markdown",
   "id": "d7e76103",
   "metadata": {},
   "source": [
    "Zip the model output for download."
   ]
  },
  {
   "cell_type": "code",
   "execution_count": null,
   "id": "ecb014a1",
   "metadata": {},
   "outputs": [],
   "source": [
    "shutil.make_archive('./demo_model_1D', 'zip', output_path)"
   ]
  },
  {
   "cell_type": "markdown",
   "id": "9ec26911",
   "metadata": {},
   "source": [
    "Finished! Start the coupled model by clicking run.bat in the output model, or import the dimr_config.xml in the GUI."
   ]
  }
 ],
 "metadata": {
  "kernelspec": {
   "display_name": "delft3dfmpy_extended",
   "language": "python",
   "name": "delft3dfmpy_extended"
  },
  "language_info": {
   "codemirror_mode": {
    "name": "ipython",
    "version": 3
   },
   "file_extension": ".py",
   "mimetype": "text/x-python",
   "name": "python",
   "nbconvert_exporter": "python",
   "pygments_lexer": "ipython3",
   "version": "3.8.13"
  }
 },
 "nbformat": 4,
 "nbformat_minor": 5
}
